{
 "cells": [
  {
   "cell_type": "markdown",
   "metadata": {},
   "source": [
    "# CASE STUDY: NYC Parking Tickets"
   ]
  },
  {
   "cell_type": "markdown",
   "metadata": {},
   "source": [
    "### IMPORTING SPARKSESSION, CSV-FILE:"
   ]
  },
  {
   "cell_type": "code",
   "execution_count": 1,
   "metadata": {},
   "outputs": [],
   "source": [
    "# Importing SparkSession:\n",
    "\n",
    "from pyspark.sql import SparkSession\n",
    "spark = SparkSession \\\n",
    "    .builder \\\n",
    "    .appName(\"PySpark DataFrame and Sql\") \\\n",
    "    .getOrCreate()"
   ]
  },
  {
   "cell_type": "code",
   "execution_count": 2,
   "metadata": {},
   "outputs": [
    {
     "data": {
      "text/plain": [
       "DataFrame[Summons Number: string, Plate ID: string, Registration State: string, Issue Date: string, Violation Code: string, Vehicle Body Type: string, Vehicle Make: string, Violation Precinct: string, Issuer Precinct: string, Violation Time: string]"
      ]
     },
     "execution_count": 2,
     "metadata": {},
     "output_type": "execute_result"
    }
   ],
   "source": [
    "# Importing data and creating a dataframe 'df':\n",
    "\n",
    "df = spark.read.format(\"csv\").option(\"header\", \"true\").load(\"/common_folder/nyc_parking/Parking_Violations_Issued_-_Fiscal_Year_2017.csv\")\n",
    "df"
   ]
  },
  {
   "cell_type": "markdown",
   "metadata": {},
   "source": [
    "### BASIC DATA INSPECTION:"
   ]
  },
  {
   "cell_type": "code",
   "execution_count": 3,
   "metadata": {},
   "outputs": [
    {
     "name": "stdout",
     "output_type": "stream",
     "text": [
      "+--------------+--------+------------------+----------+--------------+-----------------+------------+------------------+---------------+--------------+\n",
      "|Summons Number|Plate ID|Registration State|Issue Date|Violation Code|Vehicle Body Type|Vehicle Make|Violation Precinct|Issuer Precinct|Violation Time|\n",
      "+--------------+--------+------------------+----------+--------------+-----------------+------------+------------------+---------------+--------------+\n",
      "|    5092469481| GZH7067|                NY|2016-07-10|             7|             SUBN|       TOYOT|                 0|              0|         0143A|\n",
      "|    5092451658| GZH7067|                NY|2016-07-08|             7|             SUBN|       TOYOT|                 0|              0|         0400P|\n",
      "|    4006265037| FZX9232|                NY|2016-08-23|             5|             SUBN|        FORD|                 0|              0|         0233P|\n",
      "|    8478629828| 66623ME|                NY|2017-06-14|            47|             REFG|       MITSU|                14|             14|         1120A|\n",
      "|    7868300310| 37033JV|                NY|2016-11-21|            69|             DELV|       INTER|                13|             13|         0555P|\n",
      "+--------------+--------+------------------+----------+--------------+-----------------+------------+------------------+---------------+--------------+\n",
      "only showing top 5 rows\n",
      "\n"
     ]
    }
   ],
   "source": [
    "# Checking first five rows of df:\n",
    "\n",
    "df.show(5)"
   ]
  },
  {
   "cell_type": "code",
   "execution_count": 4,
   "metadata": {},
   "outputs": [
    {
     "data": {
      "text/html": [
       "<div>\n",
       "<style scoped>\n",
       "    .dataframe tbody tr th:only-of-type {\n",
       "        vertical-align: middle;\n",
       "    }\n",
       "\n",
       "    .dataframe tbody tr th {\n",
       "        vertical-align: top;\n",
       "    }\n",
       "\n",
       "    .dataframe thead th {\n",
       "        text-align: right;\n",
       "    }\n",
       "</style>\n",
       "<table border=\"1\" class=\"dataframe\">\n",
       "  <thead>\n",
       "    <tr style=\"text-align: right;\">\n",
       "      <th></th>\n",
       "      <th>Summons Number</th>\n",
       "      <th>Plate ID</th>\n",
       "      <th>Registration State</th>\n",
       "      <th>Issue Date</th>\n",
       "      <th>Violation Code</th>\n",
       "      <th>Vehicle Body Type</th>\n",
       "      <th>Vehicle Make</th>\n",
       "      <th>Violation Precinct</th>\n",
       "      <th>Issuer Precinct</th>\n",
       "      <th>Violation Time</th>\n",
       "    </tr>\n",
       "  </thead>\n",
       "  <tbody>\n",
       "    <tr>\n",
       "      <th>0</th>\n",
       "      <td>5092469481</td>\n",
       "      <td>GZH7067</td>\n",
       "      <td>NY</td>\n",
       "      <td>2016-07-10</td>\n",
       "      <td>7</td>\n",
       "      <td>SUBN</td>\n",
       "      <td>TOYOT</td>\n",
       "      <td>0</td>\n",
       "      <td>0</td>\n",
       "      <td>0143A</td>\n",
       "    </tr>\n",
       "    <tr>\n",
       "      <th>1</th>\n",
       "      <td>5092451658</td>\n",
       "      <td>GZH7067</td>\n",
       "      <td>NY</td>\n",
       "      <td>2016-07-08</td>\n",
       "      <td>7</td>\n",
       "      <td>SUBN</td>\n",
       "      <td>TOYOT</td>\n",
       "      <td>0</td>\n",
       "      <td>0</td>\n",
       "      <td>0400P</td>\n",
       "    </tr>\n",
       "    <tr>\n",
       "      <th>2</th>\n",
       "      <td>4006265037</td>\n",
       "      <td>FZX9232</td>\n",
       "      <td>NY</td>\n",
       "      <td>2016-08-23</td>\n",
       "      <td>5</td>\n",
       "      <td>SUBN</td>\n",
       "      <td>FORD</td>\n",
       "      <td>0</td>\n",
       "      <td>0</td>\n",
       "      <td>0233P</td>\n",
       "    </tr>\n",
       "    <tr>\n",
       "      <th>3</th>\n",
       "      <td>8478629828</td>\n",
       "      <td>66623ME</td>\n",
       "      <td>NY</td>\n",
       "      <td>2017-06-14</td>\n",
       "      <td>47</td>\n",
       "      <td>REFG</td>\n",
       "      <td>MITSU</td>\n",
       "      <td>14</td>\n",
       "      <td>14</td>\n",
       "      <td>1120A</td>\n",
       "    </tr>\n",
       "    <tr>\n",
       "      <th>4</th>\n",
       "      <td>7868300310</td>\n",
       "      <td>37033JV</td>\n",
       "      <td>NY</td>\n",
       "      <td>2016-11-21</td>\n",
       "      <td>69</td>\n",
       "      <td>DELV</td>\n",
       "      <td>INTER</td>\n",
       "      <td>13</td>\n",
       "      <td>13</td>\n",
       "      <td>0555P</td>\n",
       "    </tr>\n",
       "  </tbody>\n",
       "</table>\n",
       "</div>"
      ],
      "text/plain": [
       "  Summons Number Plate ID Registration State  Issue Date Violation Code  \\\n",
       "0     5092469481  GZH7067                 NY  2016-07-10              7   \n",
       "1     5092451658  GZH7067                 NY  2016-07-08              7   \n",
       "2     4006265037  FZX9232                 NY  2016-08-23              5   \n",
       "3     8478629828  66623ME                 NY  2017-06-14             47   \n",
       "4     7868300310  37033JV                 NY  2016-11-21             69   \n",
       "\n",
       "  Vehicle Body Type Vehicle Make Violation Precinct Issuer Precinct  \\\n",
       "0              SUBN        TOYOT                  0               0   \n",
       "1              SUBN        TOYOT                  0               0   \n",
       "2              SUBN         FORD                  0               0   \n",
       "3              REFG        MITSU                 14              14   \n",
       "4              DELV        INTER                 13              13   \n",
       "\n",
       "  Violation Time  \n",
       "0          0143A  \n",
       "1          0400P  \n",
       "2          0233P  \n",
       "3          1120A  \n",
       "4          0555P  "
      ]
     },
     "execution_count": 4,
     "metadata": {},
     "output_type": "execute_result"
    }
   ],
   "source": [
    "# Displaying the df in proper table format for better understanding:\n",
    "\n",
    "df.limit(5).toPandas().head()"
   ]
  },
  {
   "cell_type": "code",
   "execution_count": 5,
   "metadata": {},
   "outputs": [
    {
     "name": "stdout",
     "output_type": "stream",
     "text": [
      "root\n",
      " |-- Summons Number: string (nullable = true)\n",
      " |-- Plate ID: string (nullable = true)\n",
      " |-- Registration State: string (nullable = true)\n",
      " |-- Issue Date: string (nullable = true)\n",
      " |-- Violation Code: string (nullable = true)\n",
      " |-- Vehicle Body Type: string (nullable = true)\n",
      " |-- Vehicle Make: string (nullable = true)\n",
      " |-- Violation Precinct: string (nullable = true)\n",
      " |-- Issuer Precinct: string (nullable = true)\n",
      " |-- Violation Time: string (nullable = true)\n",
      "\n"
     ]
    }
   ],
   "source": [
    "#DataFame a schema to define the columns:\n",
    "\n",
    "df.printSchema()"
   ]
  },
  {
   "cell_type": "code",
   "execution_count": 6,
   "metadata": {},
   "outputs": [
    {
     "name": "stdout",
     "output_type": "stream",
     "text": [
      "(10803028, 10)\n"
     ]
    }
   ],
   "source": [
    "# Checking size of the dataframe (number of rows and columns respectively):\n",
    "\n",
    "print((df.count(), len(df.columns)))"
   ]
  },
  {
   "cell_type": "code",
   "execution_count": 7,
   "metadata": {},
   "outputs": [
    {
     "name": "stdout",
     "output_type": "stream",
     "text": [
      "+-------+-------------------+--------+------------------+----------+------------------+------------------+------------------+------------------+-----------------+-----------------+\n",
      "|summary|     Summons Number|Plate ID|Registration State|Issue Date|    Violation Code| Vehicle Body Type|      Vehicle Make|Violation Precinct|  Issuer Precinct|   Violation Time|\n",
      "+-------+-------------------+--------+------------------+----------+------------------+------------------+------------------+------------------+-----------------+-----------------+\n",
      "|  count|           10803028|10803028|          10803028|  10803028|          10803028|          10803028|          10803028|          10803028|         10803028|         10803028|\n",
      "|   mean|6.817447029065788E9|Infinity|              99.0|      null|34.599430455979565|3.9258887134586864| 6519.974025974026| 45.01216260848347|46.82931211508477|909.2857142857143|\n",
      "| stddev|2.320233962328227E9|     NaN|               0.0|      null|19.359868716323483|0.5013415469252528|18091.257389147086|  40.5525602684357|62.66703577269572|791.8453853409226|\n",
      "|    min|         1002884949|   #1MOM|                99|1972-03-30|                 0|                00|             ,FREI|                 0|                0|            .240P|\n",
      "|    max|         8585600044|       ~|                WY|2069-11-19|                99|               nan|               nan|                99|              997|              nan|\n",
      "+-------+-------------------+--------+------------------+----------+------------------+------------------+------------------+------------------+-----------------+-----------------+\n",
      "\n"
     ]
    }
   ],
   "source": [
    "# Data inspection (summary statistics):\n",
    "\n",
    "df.describe().show()"
   ]
  },
  {
   "cell_type": "code",
   "execution_count": 8,
   "metadata": {},
   "outputs": [
    {
     "name": "stdout",
     "output_type": "stream",
     "text": [
      "+--------------+--------+------------------+----------+--------------+-----------------+------------+------------------+---------------+--------------+\n",
      "|Summons Number|Plate ID|Registration State|Issue Date|Violation Code|Vehicle Body Type|Vehicle Make|Violation Precinct|Issuer Precinct|Violation Time|\n",
      "+--------------+--------+------------------+----------+--------------+-----------------+------------+------------------+---------------+--------------+\n",
      "|             0|       0|                 0|         0|             0|                0|           0|                 0|              0|             0|\n",
      "+--------------+--------+------------------+----------+--------------+-----------------+------------+------------------+---------------+--------------+\n",
      "\n"
     ]
    }
   ],
   "source": [
    "# Checking number of NaNs/Null per column\n",
    "\n",
    "from pyspark.sql.functions import isnan, when, count, col\n",
    "\n",
    "df.select([count(when(isnan(c) | col(c).isNull(), c)).alias(c) for c in df.columns]).show()"
   ]
  },
  {
   "cell_type": "markdown",
   "metadata": {},
   "source": [
    "##### We can see that data is clean in terms of NaN/ Null values. None of the columns have them. "
   ]
  },
  {
   "cell_type": "code",
   "execution_count": 9,
   "metadata": {},
   "outputs": [
    {
     "name": "stdout",
     "output_type": "stream",
     "text": [
      "++\n",
      "||\n",
      "++\n",
      "||\n",
      "++\n",
      "\n"
     ]
    }
   ],
   "source": [
    "# Dropping duplicate rows to get a dataframe without duplicate entries:\n",
    "\n",
    "df.select().dropDuplicates().show()"
   ]
  },
  {
   "cell_type": "code",
   "execution_count": 10,
   "metadata": {},
   "outputs": [
    {
     "name": "stdout",
     "output_type": "stream",
     "text": [
      "(10803028, 10)\n"
     ]
    }
   ],
   "source": [
    "# Cross-checking the size of the dataframe after removing duplicate entries (if any) (number of rows and columns respectively):\n",
    "\n",
    "print((df.count(), len(df.columns)))"
   ]
  },
  {
   "cell_type": "markdown",
   "metadata": {},
   "source": [
    "We can see that there were no duplicate entries in the dataframe 'df'. \n",
    "\n",
    "Data is now clean. We can proceed with data examination steps. "
   ]
  },
  {
   "cell_type": "markdown",
   "metadata": {},
   "source": [
    "### DATA EXAMINATION:"
   ]
  },
  {
   "cell_type": "code",
   "execution_count": 11,
   "metadata": {},
   "outputs": [
    {
     "data": {
      "text/plain": [
       "10803028"
      ]
     },
     "execution_count": 11,
     "metadata": {},
     "output_type": "execute_result"
    }
   ],
   "source": [
    "# 1) Find the total number of tickets for the year.\n",
    "# Counting the number of rows in df will give us total number of tickets for the year. \n",
    "\n",
    "df.count()"
   ]
  },
  {
   "cell_type": "code",
   "execution_count": 12,
   "metadata": {},
   "outputs": [
    {
     "name": "stdout",
     "output_type": "stream",
     "text": [
      "+----------------------+\n",
      "|Count of Unique States|\n",
      "+----------------------+\n",
      "|                    67|\n",
      "+----------------------+\n",
      "\n"
     ]
    }
   ],
   "source": [
    "# 2) Find out the number of unique states from where the cars that got parking tickets came.\n",
    "\n",
    "from pyspark.sql.functions import col, countDistinct\n",
    "df.agg(countDistinct(col(\"Registration State\")).alias(\"Count of Unique States\")).show()"
   ]
  },
  {
   "cell_type": "code",
   "execution_count": 13,
   "metadata": {},
   "outputs": [
    {
     "name": "stdout",
     "output_type": "stream",
     "text": [
      "+------------------+-------+\n",
      "|Registration State|  count|\n",
      "+------------------+-------+\n",
      "|                NY|8481061|\n",
      "|                NJ| 925965|\n",
      "|                PA| 285419|\n",
      "|                FL| 144556|\n",
      "|                CT| 141088|\n",
      "|                MA|  85547|\n",
      "|                IN|  80749|\n",
      "|                VA|  72626|\n",
      "|                MD|  61800|\n",
      "|                NC|  55806|\n",
      "|                IL|  37329|\n",
      "|                GA|  36852|\n",
      "|                99|  36625|\n",
      "|                TX|  36516|\n",
      "|                AZ|  26426|\n",
      "|                OH|  25302|\n",
      "|                CA|  24260|\n",
      "|                SC|  21836|\n",
      "|                ME|  21574|\n",
      "|                MN|  18227|\n",
      "+------------------+-------+\n",
      "only showing top 20 rows\n",
      "\n"
     ]
    }
   ],
   "source": [
    "# Number of records per Registration state: Ordering the data by 'count' in descending order\n",
    "\n",
    "df.groupBy(\"Registration State\").count().orderBy(\"count\",ascending=False).show()"
   ]
  },
  {
   "cell_type": "markdown",
   "metadata": {},
   "source": [
    "From above table, we can see a numeric entry '99' in column 'Registration state. This needs to be corrected with state having maximum entries. Since the data is ordered in descending order, we can see that 'NY' is the state with maximum entries (total NY entries = 8481061). \n",
    "Hence, we will replace '99' with 'NY'. "
   ]
  },
  {
   "cell_type": "code",
   "execution_count": 14,
   "metadata": {},
   "outputs": [
    {
     "name": "stdout",
     "output_type": "stream",
     "text": [
      "+------------------+-------+\n",
      "|Registration State|  count|\n",
      "+------------------+-------+\n",
      "|                NY|8517686|\n",
      "|                NJ| 925965|\n",
      "|                PA| 285419|\n",
      "|                FL| 144556|\n",
      "|                CT| 141088|\n",
      "|                MA|  85547|\n",
      "|                IN|  80749|\n",
      "|                VA|  72626|\n",
      "|                MD|  61800|\n",
      "|                NC|  55806|\n",
      "|                IL|  37329|\n",
      "|                GA|  36852|\n",
      "|                TX|  36516|\n",
      "|                AZ|  26426|\n",
      "|                OH|  25302|\n",
      "|                CA|  24260|\n",
      "|                SC|  21836|\n",
      "|                ME|  21574|\n",
      "|                MN|  18227|\n",
      "|                OK|  18165|\n",
      "+------------------+-------+\n",
      "only showing top 20 rows\n",
      "\n"
     ]
    }
   ],
   "source": [
    "# Replacing '99' with 'NY' and creating a new dataframe df1:\n",
    "\n",
    "df1 = df.replace('99','NY')\n",
    "\n",
    "# Checking the number of entries for 'NY' after replacement:\n",
    "\n",
    "df1.groupBy(\"Registration State\").count().orderBy(\"count\",ascending=False).show()"
   ]
  },
  {
   "cell_type": "code",
   "execution_count": 15,
   "metadata": {},
   "outputs": [
    {
     "name": "stdout",
     "output_type": "stream",
     "text": [
      "+-------------------------------------------+\n",
      "|Count of Unique Registration_States_replace|\n",
      "+-------------------------------------------+\n",
      "|                                         66|\n",
      "+-------------------------------------------+\n",
      "\n"
     ]
    }
   ],
   "source": [
    "# The number of unique states again after replacing '99' with 'NY':\n",
    "\n",
    "df1.agg(countDistinct(col(\"Registration State\")).alias(\"Count of Unique Registration_States_replace\")).show()"
   ]
  },
  {
   "cell_type": "markdown",
   "metadata": {},
   "source": [
    "### AGGREGATION TASKS:"
   ]
  },
  {
   "cell_type": "markdown",
   "metadata": {},
   "source": [
    "#### Q.1) How often does each violation code occur? Display the frequency of the top five violation codes."
   ]
  },
  {
   "cell_type": "code",
   "execution_count": 16,
   "metadata": {},
   "outputs": [
    {
     "name": "stdout",
     "output_type": "stream",
     "text": [
      "+------------------------------+\n",
      "|Count of Unique Violation_Code|\n",
      "+------------------------------+\n",
      "|                           100|\n",
      "+------------------------------+\n",
      "\n"
     ]
    }
   ],
   "source": [
    "# The number of unique Violation Codes:\n",
    "\n",
    "df1.agg(countDistinct(col(\"Violation Code\")).alias(\"Count of Unique Violation_Code\")).show()"
   ]
  },
  {
   "cell_type": "code",
   "execution_count": 17,
   "metadata": {},
   "outputs": [
    {
     "name": "stdout",
     "output_type": "stream",
     "text": [
      "+--------------+-------+\n",
      "|Violation Code|  count|\n",
      "+--------------+-------+\n",
      "|            21|1528588|\n",
      "|            36|1400614|\n",
      "|            38|1062304|\n",
      "|            14| 893498|\n",
      "|            20| 618593|\n",
      "|            46| 600012|\n",
      "|            37| 596769|\n",
      "|            71| 521308|\n",
      "|            40| 519615|\n",
      "|             7| 516395|\n",
      "|            19| 290920|\n",
      "|            70| 273887|\n",
      "|            69| 183509|\n",
      "|            16| 160448|\n",
      "|            31| 146680|\n",
      "|             5| 145655|\n",
      "|            47| 113927|\n",
      "|            74| 112669|\n",
      "|            50| 100115|\n",
      "|            48|  83550|\n",
      "|            17|  74916|\n",
      "|            84|  71608|\n",
      "|            24|  70168|\n",
      "|            42|  64918|\n",
      "|            51|  61389|\n",
      "|            78|  56744|\n",
      "|             9|  56633|\n",
      "|            98|  51011|\n",
      "|            10|  46759|\n",
      "|            68|  42944|\n",
      "|            53|  35323|\n",
      "|            82|  33404|\n",
      "|            66|  25896|\n",
      "|            13|  21109|\n",
      "|            85|  19502|\n",
      "|            18|  18362|\n",
      "|            45|  16260|\n",
      "|            23|  15903|\n",
      "|            67|  15759|\n",
      "|            77|  11878|\n",
      "|            64|  11564|\n",
      "|            61|  10949|\n",
      "|            72|   9830|\n",
      "|            75|   8261|\n",
      "|            83|   8001|\n",
      "|            11|   7127|\n",
      "|            27|   6868|\n",
      "|            60|   6724|\n",
      "|            79|   6200|\n",
      "|            62|   5713|\n",
      "|            41|   5577|\n",
      "|            80|   4381|\n",
      "|            89|   3504|\n",
      "|            73|   3502|\n",
      "|            35|   3495|\n",
      "|            NY|   3316|\n",
      "|            39|   2770|\n",
      "|             8|   2309|\n",
      "|            52|   1435|\n",
      "|            26|   1248|\n",
      "|            63|   1111|\n",
      "|             4|   1065|\n",
      "|             1|   1058|\n",
      "|            91|   1003|\n",
      "|            49|    876|\n",
      "|            30|    723|\n",
      "|            56|    713|\n",
      "|             3|    674|\n",
      "|            94|    446|\n",
      "|            43|    370|\n",
      "|             6|    318|\n",
      "|            81|    267|\n",
      "|             0|    239|\n",
      "|            59|    233|\n",
      "|            55|    223|\n",
      "|            95|    182|\n",
      "|            25|    169|\n",
      "|             2|    127|\n",
      "|            97|    112|\n",
      "|            22|    110|\n",
      "|            65|    108|\n",
      "|            96|     81|\n",
      "|            12|     65|\n",
      "|            58|     58|\n",
      "|            90|     53|\n",
      "|            29|     46|\n",
      "|            33|     44|\n",
      "|            92|     43|\n",
      "|            32|     35|\n",
      "|            76|     24|\n",
      "|            93|     23|\n",
      "|            88|     23|\n",
      "|            15|     22|\n",
      "|            34|     18|\n",
      "|            86|     16|\n",
      "|            54|     11|\n",
      "|            28|      9|\n",
      "|            44|      8|\n",
      "|            57|      5|\n",
      "|            87|      1|\n",
      "+--------------+-------+\n",
      "\n"
     ]
    }
   ],
   "source": [
    "# 1) How often does each violation code occur? \n",
    "# (By using show(100), we can get the frequency of occurance of each Violation Code)\n",
    "\n",
    "df1.groupBy(\"Violation Code\").count().orderBy(\"count\",ascending=False).show(100)"
   ]
  },
  {
   "cell_type": "code",
   "execution_count": 18,
   "metadata": {},
   "outputs": [
    {
     "name": "stdout",
     "output_type": "stream",
     "text": [
      "+--------------+-------+\n",
      "|Violation Code|  count|\n",
      "+--------------+-------+\n",
      "|            21|1528588|\n",
      "|            36|1400614|\n",
      "|            38|1062304|\n",
      "|            14| 893498|\n",
      "|            20| 618593|\n",
      "+--------------+-------+\n",
      "only showing top 5 rows\n",
      "\n"
     ]
    }
   ],
   "source": [
    "# Display the frequency of the top five violation codes:\n",
    "\n",
    "df1.groupBy(\"Violation Code\").count().orderBy(\"count\",ascending=False).show(5)"
   ]
  },
  {
   "cell_type": "markdown",
   "metadata": {},
   "source": [
    "##### Top 5 Violation codes are: 21, 36, 38, 14, and 20."
   ]
  },
  {
   "cell_type": "markdown",
   "metadata": {},
   "source": [
    "#### Q.2) How often does each 'vehicle body type' get a parking ticket? How about the 'vehicle make'?"
   ]
  },
  {
   "cell_type": "code",
   "execution_count": 19,
   "metadata": {},
   "outputs": [
    {
     "name": "stdout",
     "output_type": "stream",
     "text": [
      "+-----------------+-------+\n",
      "|Vehicle Body Type|  count|\n",
      "+-----------------+-------+\n",
      "|             SUBN|3719802|\n",
      "|             4DSD|3082020|\n",
      "|              VAN|1411970|\n",
      "|             DELV| 687330|\n",
      "|              SDN| 438191|\n",
      "+-----------------+-------+\n",
      "only showing top 5 rows\n",
      "\n"
     ]
    }
   ],
   "source": [
    "# 2) How often does each 'vehicle body type' get a parking ticket? Display top 5 entries.\n",
    "\n",
    "df1.groupBy(\"Vehicle Body Type\").count().orderBy(\"count\",ascending=False).show(5)"
   ]
  },
  {
   "cell_type": "markdown",
   "metadata": {},
   "source": [
    "##### Top 5 'Vehicle Body Type' which get tickets are: SUBN (suburban), 4DSD(four-door sedan ) , VAN, DELV(delivery) and SDN( sedan). "
   ]
  },
  {
   "cell_type": "code",
   "execution_count": 20,
   "metadata": {},
   "outputs": [
    {
     "name": "stdout",
     "output_type": "stream",
     "text": [
      "+------------+-------+\n",
      "|Vehicle Make|  count|\n",
      "+------------+-------+\n",
      "|        FORD|1280958|\n",
      "|       TOYOT|1211451|\n",
      "|       HONDA|1079238|\n",
      "|       NISSA| 918590|\n",
      "|       CHEVR| 714655|\n",
      "+------------+-------+\n",
      "only showing top 5 rows\n",
      "\n"
     ]
    }
   ],
   "source": [
    "# How often does each 'vehicle make' get a parking ticket? Display top 5 entries.\n",
    "\n",
    "df1.groupBy(\"Vehicle Make\").count().orderBy(\"count\",ascending=False).show(5)"
   ]
  },
  {
   "cell_type": "markdown",
   "metadata": {},
   "source": [
    "##### Top 5 'Vehicle Make' which get tickets are: FORD, TOYOTA, HONDA, NISSAN and CHEVROLET."
   ]
  },
  {
   "cell_type": "markdown",
   "metadata": {},
   "source": [
    "#### Q.3) A precinct is a police station that has a certain zone of the city under its command. Find the (5 highest) frequencies of tickets for each of the following:\n",
    "'Violation Precinct' (This is the precinct of the zone where the violation occurred). Using this, can you draw any insights for parking violations in any specific areas of the city?\n",
    "'Issuer Precinct' (This is the precinct that issued the ticket.)\n",
    "Here, you would have noticed that the dataframe has the'Violating Precinct' or 'Issuing Precinct' as '0'. These are erroneous entries. Hence, you need to provide the records for five correct precincts."
   ]
  },
  {
   "cell_type": "code",
   "execution_count": 21,
   "metadata": {},
   "outputs": [
    {
     "name": "stdout",
     "output_type": "stream",
     "text": [
      "+------------------+-------+\n",
      "|Violation Precinct|  count|\n",
      "+------------------+-------+\n",
      "|                 0|2072400|\n",
      "|                19| 535671|\n",
      "|                14| 352450|\n",
      "|                 1| 331810|\n",
      "|                18| 306920|\n",
      "|               114| 296514|\n",
      "|                13| 246595|\n",
      "|               109| 218141|\n",
      "|                17| 193024|\n",
      "|                70| 192831|\n",
      "|               115| 174332|\n",
      "|                84| 171079|\n",
      "|                61| 166997|\n",
      "|                20| 163992|\n",
      "|               108| 159276|\n",
      "|                52| 152046|\n",
      "|                66| 150370|\n",
      "|               112| 148314|\n",
      "|               103| 144607|\n",
      "|                90| 143443|\n",
      "+------------------+-------+\n",
      "only showing top 20 rows\n",
      "\n"
     ]
    }
   ],
   "source": [
    "# 3) 1) 'Violation Precinct' (This is the precinct of the zone where the violation occurred). \n",
    "\n",
    "df1.groupBy(\"Violation Precinct\").count().orderBy(\"count\",ascending=False).show()"
   ]
  },
  {
   "cell_type": "code",
   "execution_count": 22,
   "metadata": {},
   "outputs": [
    {
     "name": "stdout",
     "output_type": "stream",
     "text": [
      "+------------------+-------+\n",
      "|Violation Precinct|  count|\n",
      "+------------------+-------+\n",
      "|                 0|2072400|\n",
      "|                19| 535671|\n",
      "|                14| 352450|\n",
      "|                 1| 331810|\n",
      "|                18| 306920|\n",
      "|               114| 296514|\n",
      "+------------------+-------+\n",
      "only showing top 6 rows\n",
      "\n"
     ]
    }
   ],
   "source": [
    "# Since first entry '0' is an erroneous entry (as per the problem statement), we will ignore this.\n",
    "# To get top five entries, we will get top six and ignore first entry. \n",
    "\n",
    "df1.groupBy(\"Violation Precinct\").count().orderBy(\"count\",ascending=False).show(6)"
   ]
  },
  {
   "cell_type": "markdown",
   "metadata": {},
   "source": [
    "##### From the data obtained above, we can see that zones with precints 19, 14, 1, 18 and 114 are those which have maximum violations occuring, in descending order, respectively. Geographically, 18 and 19 could be neighbouring precints which means that area has maximum violations thereby resulting in maximum tickets. "
   ]
  },
  {
   "cell_type": "code",
   "execution_count": 23,
   "metadata": {},
   "outputs": [
    {
     "name": "stdout",
     "output_type": "stream",
     "text": [
      "+---------------+-------+\n",
      "|Issuer Precinct|  count|\n",
      "+---------------+-------+\n",
      "|              0|2388479|\n",
      "|             19| 521513|\n",
      "|             14| 344977|\n",
      "|              1| 321170|\n",
      "|             18| 296553|\n",
      "|            114| 289950|\n",
      "|             13| 240833|\n",
      "|            109| 218719|\n",
      "|             17| 187889|\n",
      "|             70| 183867|\n",
      "|            115| 169300|\n",
      "|             84| 164508|\n",
      "|             20| 161447|\n",
      "|             61| 159325|\n",
      "|            108| 152250|\n",
      "|             52| 147701|\n",
      "|            112| 142919|\n",
      "|            103| 141450|\n",
      "|             66| 137690|\n",
      "|             90| 136692|\n",
      "+---------------+-------+\n",
      "only showing top 20 rows\n",
      "\n"
     ]
    }
   ],
   "source": [
    "# 3) 2) 'Issuer Precinct' (This is the precinct that issued the ticket.)\n",
    "\n",
    "df1.groupBy(\"Issuer Precinct\").count().orderBy(\"count\",ascending=False).show()"
   ]
  },
  {
   "cell_type": "code",
   "execution_count": 24,
   "metadata": {
    "scrolled": true
   },
   "outputs": [
    {
     "name": "stdout",
     "output_type": "stream",
     "text": [
      "+---------------+-------+\n",
      "|Issuer Precinct|  count|\n",
      "+---------------+-------+\n",
      "|              0|2388479|\n",
      "|             19| 521513|\n",
      "|             14| 344977|\n",
      "|              1| 321170|\n",
      "|             18| 296553|\n",
      "|            114| 289950|\n",
      "+---------------+-------+\n",
      "only showing top 6 rows\n",
      "\n"
     ]
    }
   ],
   "source": [
    "# Since first entry '0' is an erroneous entry (as per the problem statement), we will ignore this.\n",
    "# To get top five entries, we will get top six and ignore first entry. \n",
    "\n",
    "df1.groupBy(\"Issuer Precinct\").count().orderBy(\"count\",ascending=False).show(6)"
   ]
  },
  {
   "cell_type": "markdown",
   "metadata": {},
   "source": [
    "##### From the data obtained above, we can see that issuer precints 19, 14, 1, 18 and 114 have issued maximum violation tickets, in descending order, respectively. Geographically, 18 and 19 could be neighbouring precints which means that cops from these neighbourhoods have issued maximum tickets. "
   ]
  },
  {
   "cell_type": "markdown",
   "metadata": {},
   "source": [
    "For next question, we need top three precincts which have issued most number of tickets. We can see that top violation and issuer precincts are same, in the exact same order. Hence the top three precincts needed for next questions are 19, 14 and 1, respectively."
   ]
  },
  {
   "cell_type": "markdown",
   "metadata": {},
   "source": [
    "#### Q.4) Find the violation code frequencies for three precincts that have issued the most number of tickets. Do these precinct zones have an exceptionally high frequency of certain violation codes? Are these codes common across precincts? "
   ]
  },
  {
   "cell_type": "code",
   "execution_count": 25,
   "metadata": {},
   "outputs": [],
   "source": [
    "# Registering df1 as table for SQL queries.\n",
    "df1.registerTempTable(\"dfTable\")"
   ]
  },
  {
   "cell_type": "code",
   "execution_count": 26,
   "metadata": {},
   "outputs": [
    {
     "name": "stdout",
     "output_type": "stream",
     "text": [
      "+--------------+---------+\n",
      "|Violation Code|Frequency|\n",
      "+--------------+---------+\n",
      "|            46|    86390|\n",
      "|            37|    72437|\n",
      "|            38|    72344|\n",
      "|            14|    57563|\n",
      "|            21|    54700|\n",
      "|            16|    31353|\n",
      "|            20|    27352|\n",
      "|            40|    21513|\n",
      "|            71|    15107|\n",
      "|            19|    12896|\n",
      "|            10|    11057|\n",
      "|            70|     8649|\n",
      "|            84|     8647|\n",
      "|            69|     4545|\n",
      "|            18|     4438|\n",
      "|            31|     3294|\n",
      "|            48|     2947|\n",
      "|            50|     2879|\n",
      "|            17|     2860|\n",
      "|            53|     2572|\n",
      "+--------------+---------+\n",
      "only showing top 20 rows\n",
      "\n"
     ]
    }
   ],
   "source": [
    "# 4) Find the violation code frequencies for three precincts that have issued the most number of tickets. \n",
    "# Violation code frequencies for precinct = 19:\n",
    "\n",
    "spark.sql(\"select `Violation Code`, count(`Violation Code`) as Frequency from dfTable  where `Issuer Precinct` = 19 GROUP BY `Violation Code` order by Frequency desc \").show()"
   ]
  },
  {
   "cell_type": "code",
   "execution_count": 27,
   "metadata": {},
   "outputs": [
    {
     "name": "stdout",
     "output_type": "stream",
     "text": [
      "+--------------+---------+\n",
      "|Violation Code|Frequency|\n",
      "+--------------+---------+\n",
      "|            14|    73837|\n",
      "|            69|    58026|\n",
      "|            31|    39857|\n",
      "|            47|    30540|\n",
      "|            42|    20663|\n",
      "|            46|    13435|\n",
      "|            84|    11111|\n",
      "|            19|    11062|\n",
      "|            82|     8853|\n",
      "|            17|     6160|\n",
      "|            40|     6120|\n",
      "|            38|     5604|\n",
      "|            71|     5470|\n",
      "|             9|     4999|\n",
      "|            20|     4577|\n",
      "|            13|     4403|\n",
      "|            48|     4043|\n",
      "|            89|     2955|\n",
      "|            37|     2525|\n",
      "|            70|     2465|\n",
      "+--------------+---------+\n",
      "only showing top 20 rows\n",
      "\n"
     ]
    }
   ],
   "source": [
    "# Violation code frequencies for precinct = 14:\n",
    "\n",
    "spark.sql(\"select `Violation Code`, count(`Violation Code`) as Frequency from dfTable  where `Issuer Precinct` = 14 GROUP BY `Violation Code` order by Frequency desc \").show()"
   ]
  },
  {
   "cell_type": "code",
   "execution_count": 28,
   "metadata": {},
   "outputs": [
    {
     "name": "stdout",
     "output_type": "stream",
     "text": [
      "+--------------+---------+\n",
      "|Violation Code|Frequency|\n",
      "+--------------+---------+\n",
      "|            14|    73522|\n",
      "|            16|    38937|\n",
      "|            20|    27841|\n",
      "|            46|    22534|\n",
      "|            38|    16989|\n",
      "|            17|    13811|\n",
      "|            37|    13513|\n",
      "|            69|    11165|\n",
      "|            31|    11047|\n",
      "|            19|    10487|\n",
      "|            21|     8182|\n",
      "|            40|     8175|\n",
      "|            10|     7402|\n",
      "|            71|     7313|\n",
      "|            42|     5551|\n",
      "|            84|     5541|\n",
      "|            51|     4446|\n",
      "|            70|     3928|\n",
      "|             9|     3553|\n",
      "|            48|     3482|\n",
      "+--------------+---------+\n",
      "only showing top 20 rows\n",
      "\n"
     ]
    }
   ],
   "source": [
    "# Violation code frequencies for precinct = 1:\n",
    "\n",
    "spark.sql(\"select `Violation Code`, count(`Violation Code`) as Frequency from dfTable  where `Issuer Precinct` = 1 GROUP BY `Violation Code` order by Frequency desc \").show()"
   ]
  },
  {
   "cell_type": "markdown",
   "metadata": {},
   "source": [
    "##### -- If we look at the frequency tables of three precinct zones, it can be observed that there are few precinct zones which have a high frequency of certain codes (precinct codes = 14,19,46 and so on). \n",
    "\n",
    "##### Some of these codes are common across all three precincts such as 14,19 and 46 whereas few other codes are common across two precincts namely 16,20,31,38 and 69. "
   ]
  },
  {
   "cell_type": "markdown",
   "metadata": {},
   "source": [
    "#### Q.5) Find out the properties of parking violations across different times of the day:\n",
    "Find a way to deal with missing values, if any.\n",
    "\n",
    "The Violation Time field is specified in a strange format. Find a way to make this a time attribute that you can use to divide into groups.\n",
    "\n",
    "Divide 24 hours into six equal discrete bins of time. Choose the intervals as you see fit. For each of these groups, find the three most commonly occurring violations.\n",
    "\n",
    "Now, try another direction. For the three most commonly occurring violation codes, find the most common time of the day (in terms of the bins from the previous part)."
   ]
  },
  {
   "cell_type": "code",
   "execution_count": 29,
   "metadata": {},
   "outputs": [
    {
     "name": "stdout",
     "output_type": "stream",
     "text": [
      "+----------+\n",
      "|Null_Count|\n",
      "+----------+\n",
      "|         0|\n",
      "+----------+\n",
      "\n"
     ]
    }
   ],
   "source": [
    "# Count of missing values, if any:\n",
    "\n",
    "spark.sql(\"Select count(*) as Null_Count from dfTable where `Violation Time` is NULL\").show()"
   ]
  },
  {
   "cell_type": "markdown",
   "metadata": {},
   "source": [
    "##### There are no Null values in 'Violation Time' column. "
   ]
  },
  {
   "cell_type": "code",
   "execution_count": 30,
   "metadata": {},
   "outputs": [
    {
     "name": "stdout",
     "output_type": "stream",
     "text": [
      "+--------------+\n",
      "|Violation Time|\n",
      "+--------------+\n",
      "|         0143A|\n",
      "|         0400P|\n",
      "|         0233P|\n",
      "|         1120A|\n",
      "|         0555P|\n",
      "|         0852P|\n",
      "|         0215A|\n",
      "|         0758A|\n",
      "|         1005A|\n",
      "|         0845A|\n",
      "|         0015A|\n",
      "|         0707A|\n",
      "|         1022A|\n",
      "|         1150A|\n",
      "|         0525A|\n",
      "|         0645P|\n",
      "|         1122A|\n",
      "|         0256P|\n",
      "|         1232A|\n",
      "|         1034A|\n",
      "+--------------+\n",
      "only showing top 20 rows\n",
      "\n"
     ]
    }
   ],
   "source": [
    "# Looking at 'Violation Time':\n",
    "\n",
    "spark.sql(\"Select `Violation Time` from dfTable\").show()"
   ]
  },
  {
   "cell_type": "code",
   "execution_count": 31,
   "metadata": {},
   "outputs": [],
   "source": [
    "# Dividing 24 hours into six equal discrete bins of time:\n",
    "\n",
    "bins = spark.sql(\"SELECT * ,case when substring(`Violation Time`,1,2) in ('00','01','02','03','12') and upper(substring(`Violation Time`,-1))='A' then 1 when substring(`Violation Time`,1,2) in ('04','05','06','07') and upper(substring(`Violation Time`,-1))='A' then 2 when substring(`Violation Time`,1,2) in ('08','09','10','11') and upper(substring(`Violation Time`,-1))='A' then 3 when substring(`Violation Time`,1,2) in ('12','00','01','02','03') and upper(substring(`Violation Time`,-1))='P' then 4 when substring(`Violation Time`,1,2) in ('04','05','06','07') and upper(substring(`Violation Time`,-1))='P' then 5 when substring(`Violation Time`,1,2) in ('08','09','10','11') and upper(substring(`Violation Time`,-1))='P' then 6 else null end as bins from dfTable where `Violation Time` is not null or (length(`Violation Time`)=5 and upper(substring(`Violation Time`,-1)) in ('A','P') and substring(`Violation Time`,1,2) in ('00','01','02','03','04','05','06','07', '08','09','10','11','12'))\")"
   ]
  },
  {
   "cell_type": "markdown",
   "metadata": {},
   "source": [
    "Created bins are as follows: \n",
    "\n",
    "-- Bin 1: 12 AM - 4 AM\n",
    "\n",
    "-- Bin 2: 4 AM - 8 AM\n",
    "\n",
    "-- Bin 3: 8 AM - 12 PM\n",
    "\n",
    "-- Bin 4: 12 PM - 4 PM\n",
    "\n",
    "-- Bin 5: 4 PM - 8 PM\n",
    "\n",
    "-- Bin 6: 8 PM - 12 AM"
   ]
  },
  {
   "cell_type": "code",
   "execution_count": 32,
   "metadata": {},
   "outputs": [
    {
     "name": "stdout",
     "output_type": "stream",
     "text": [
      "+--------------+--------+------------------+----------+--------------+-----------------+------------+------------------+---------------+--------------+----+\n",
      "|Summons Number|Plate ID|Registration State|Issue Date|Violation Code|Vehicle Body Type|Vehicle Make|Violation Precinct|Issuer Precinct|Violation Time|bins|\n",
      "+--------------+--------+------------------+----------+--------------+-----------------+------------+------------------+---------------+--------------+----+\n",
      "|    5092469481| GZH7067|                NY|2016-07-10|             7|             SUBN|       TOYOT|                 0|              0|         0143A|   1|\n",
      "|    5092451658| GZH7067|                NY|2016-07-08|             7|             SUBN|       TOYOT|                 0|              0|         0400P|   5|\n",
      "|    4006265037| FZX9232|                NY|2016-08-23|             5|             SUBN|        FORD|                 0|              0|         0233P|   4|\n",
      "|    8478629828| 66623ME|                NY|2017-06-14|            47|             REFG|       MITSU|                14|             14|         1120A|   3|\n",
      "|    7868300310| 37033JV|                NY|2016-11-21|            69|             DELV|       INTER|                13|             13|         0555P|   5|\n",
      "|    5096917368| FZD8593|                NY|2017-06-13|             7|             SUBN|       ME/BE|                 0|              0|         0852P|   6|\n",
      "|    1413609545|  X20DCM|                NJ|2016-08-03|            40|              SDN|       TOYOT|                71|             71|         0215A|   1|\n",
      "|    4628525523|  326SF9|                MA|2016-12-21|            36|               UT|         BMW|                 0|              0|         0758A|   2|\n",
      "|    4627113330| HCA5464|                NY|2016-11-21|            36|             SUBN|       DODGE|                 0|              0|         1005A|   3|\n",
      "|    4006478550| VAD7274|                VA|2016-10-05|             5|               4D|         BMW|                 0|              0|         0845A|   3|\n",
      "+--------------+--------+------------------+----------+--------------+-----------------+------------+------------------+---------------+--------------+----+\n",
      "only showing top 10 rows\n",
      "\n"
     ]
    }
   ],
   "source": [
    "# Inspecting bins\n",
    "bins.show(10)"
   ]
  },
  {
   "cell_type": "code",
   "execution_count": 33,
   "metadata": {},
   "outputs": [],
   "source": [
    "# Registering bins as table for SQL queries:\n",
    "\n",
    "bins.registerTempTable(\"binTable\")"
   ]
  },
  {
   "cell_type": "code",
   "execution_count": 34,
   "metadata": {},
   "outputs": [
    {
     "name": "stdout",
     "output_type": "stream",
     "text": [
      "+--------------+----+\n",
      "|Violation Time|bins|\n",
      "+--------------+----+\n",
      "|         0143A|   1|\n",
      "|         0400P|   5|\n",
      "|         0233P|   4|\n",
      "|         1120A|   3|\n",
      "|         0555P|   5|\n",
      "+--------------+----+\n",
      "only showing top 5 rows\n",
      "\n"
     ]
    }
   ],
   "source": [
    "# Checking just the 'Violation Time' and 'bins':\n",
    "\n",
    "spark.sql(\"Select `Violation Time`, bins from binTable\").show(5)"
   ]
  },
  {
   "cell_type": "code",
   "execution_count": 35,
   "metadata": {},
   "outputs": [
    {
     "name": "stdout",
     "output_type": "stream",
     "text": [
      "+----+---------+\n",
      "|bins|Frequency|\n",
      "+----+---------+\n",
      "|   3|  4306133|\n",
      "|   4|  3591755|\n",
      "|   5|  1296362|\n",
      "|   2|   883509|\n",
      "|   6|   382306|\n",
      "|   1|   342745|\n",
      "|null|      218|\n",
      "+----+---------+\n",
      "\n"
     ]
    }
   ],
   "source": [
    "# Frequency of tickets for each bin:\n",
    "\n",
    "spark.sql(\"Select bins, count(*) as Frequency from binTable GROUP BY `bins` order by Frequency desc \").show()"
   ]
  },
  {
   "cell_type": "code",
   "execution_count": 42,
   "metadata": {},
   "outputs": [],
   "source": [
    "bin_plot = spark.sql(\"Select bins, count(*) as Frequency from binTable GROUP BY `bins` order by Frequency desc\")"
   ]
  },
  {
   "cell_type": "code",
   "execution_count": 37,
   "metadata": {},
   "outputs": [],
   "source": [
    "# Importing pandas and matplotlib:\n",
    "\n",
    "import pandas as pd\n",
    "import matplotlib.pyplot as plt"
   ]
  },
  {
   "cell_type": "code",
   "execution_count": 43,
   "metadata": {},
   "outputs": [
    {
     "data": {
      "text/plain": [
       "<matplotlib.axes._subplots.AxesSubplot at 0x7ff25bb25710>"
      ]
     },
     "execution_count": 43,
     "metadata": {},
     "output_type": "execute_result"
    },
    {
     "data": {
      "text/plain": [
       "<Figure size 432x288 with 0 Axes>"
      ]
     },
     "metadata": {},
     "output_type": "display_data"
    },
    {
     "data": {
      "image/png": "[encoded data removed]",
      "text/plain": [
       "<Figure size 432x288 with 1 Axes>"
      ]
     },
     "metadata": {},
     "output_type": "display_data"
    }
   ],
   "source": [
    "# Visual representation of 'bins' vs 'Frequency':\n",
    "plt.clf()\n",
    "plot1 = bin_plot.toPandas()\n",
    "plot1.plot(x='bins', y='Frequency', kind='bar', rot=45)"
   ]
  },
  {
   "cell_type": "code",
   "execution_count": 44,
   "metadata": {},
   "outputs": [
    {
     "name": "stdout",
     "output_type": "stream",
     "text": [
      "+--------------+---------------+\n",
      "|Violation Code|Violation_count|\n",
      "+--------------+---------------+\n",
      "|            21|          77460|\n",
      "|            40|          50947|\n",
      "|            78|          32243|\n",
      "+--------------+---------------+\n",
      "only showing top 3 rows\n",
      "\n"
     ]
    }
   ],
   "source": [
    "# Three most commonly occurring violations for bin 1:\n",
    "\n",
    "spark.sql(\"select `Violation Code`,count(*) as Violation_count from binTable where bins == 1 group by `Violation Code` order by Violation_count  desc\").show(3)"
   ]
  },
  {
   "cell_type": "code",
   "execution_count": 45,
   "metadata": {},
   "outputs": [
    {
     "name": "stdout",
     "output_type": "stream",
     "text": [
      "+--------------+---------------+\n",
      "|Violation Code|Violation_count|\n",
      "+--------------+---------------+\n",
      "|            14|         141276|\n",
      "|            21|         119469|\n",
      "|            40|         112186|\n",
      "+--------------+---------------+\n",
      "only showing top 3 rows\n",
      "\n"
     ]
    }
   ],
   "source": [
    "# Three most commonly occurring violations for bin 2:\n",
    "\n",
    "spark.sql(\"select `Violation Code`,count(*) as Violation_count from binTable where bins == 2 group by `Violation Code` order by Violation_count  desc\").show(3)"
   ]
  },
  {
   "cell_type": "code",
   "execution_count": 46,
   "metadata": {},
   "outputs": [
    {
     "name": "stdout",
     "output_type": "stream",
     "text": [
      "+--------------+---------------+\n",
      "|Violation Code|Violation_count|\n",
      "+--------------+---------------+\n",
      "|            21|        1182689|\n",
      "|            36|         751422|\n",
      "|            38|         346518|\n",
      "+--------------+---------------+\n",
      "only showing top 3 rows\n",
      "\n"
     ]
    }
   ],
   "source": [
    "# Three most commonly occurring violations for bin 3:\n",
    "\n",
    "spark.sql(\"select `Violation Code`,count(*) as Violation_count from binTable where bins == 3 group by `Violation Code` order by Violation_count  desc\").show(3)"
   ]
  },
  {
   "cell_type": "code",
   "execution_count": 47,
   "metadata": {},
   "outputs": [
    {
     "name": "stdout",
     "output_type": "stream",
     "text": [
      "+--------------+---------------+\n",
      "|Violation Code|Violation_count|\n",
      "+--------------+---------------+\n",
      "|            36|         588395|\n",
      "|            38|         462758|\n",
      "|            37|         337075|\n",
      "+--------------+---------------+\n",
      "only showing top 3 rows\n",
      "\n"
     ]
    }
   ],
   "source": [
    "# Three most commonly occurring violations for bin 4:\n",
    "\n",
    "spark.sql(\"select `Violation Code`,count(*) as Violation_count from binTable where bins == 4 group by `Violation Code` order by Violation_count  desc\").show(3)"
   ]
  },
  {
   "cell_type": "code",
   "execution_count": 48,
   "metadata": {},
   "outputs": [
    {
     "name": "stdout",
     "output_type": "stream",
     "text": [
      "+--------------+---------------+\n",
      "|Violation Code|Violation_count|\n",
      "+--------------+---------------+\n",
      "|            38|         203232|\n",
      "|            37|         145784|\n",
      "|            14|         144749|\n",
      "+--------------+---------------+\n",
      "only showing top 3 rows\n",
      "\n"
     ]
    }
   ],
   "source": [
    "# Three most commonly occurring violations for bin 5:\n",
    "\n",
    "spark.sql(\"select `Violation Code`,count(*) as Violation_count from binTable where bins == 5 group by `Violation Code` order by Violation_count  desc\").show(3)"
   ]
  },
  {
   "cell_type": "code",
   "execution_count": 49,
   "metadata": {},
   "outputs": [
    {
     "name": "stdout",
     "output_type": "stream",
     "text": [
      "+--------------+---------------+\n",
      "|Violation Code|Violation_count|\n",
      "+--------------+---------------+\n",
      "|             7|          65593|\n",
      "|            38|          47029|\n",
      "|            14|          44779|\n",
      "+--------------+---------------+\n",
      "only showing top 3 rows\n",
      "\n"
     ]
    }
   ],
   "source": [
    "# Three most commonly occurring violations for bin 6:\n",
    "\n",
    "spark.sql(\"select `Violation Code`,count(*) as Violation_count from binTable where bins == 6 group by `Violation Code` order by Violation_count  desc\").show(3)"
   ]
  },
  {
   "cell_type": "code",
   "execution_count": 50,
   "metadata": {},
   "outputs": [
    {
     "name": "stdout",
     "output_type": "stream",
     "text": [
      "+----+---------+\n",
      "|bins|frequency|\n",
      "+----+---------+\n",
      "|   3|  4306133|\n",
      "|   4|  3591755|\n",
      "|   5|  1296362|\n",
      "+----+---------+\n",
      "only showing top 3 rows\n",
      "\n"
     ]
    }
   ],
   "source": [
    "# Top three bins (time slots) with highest frequency of tickets:\n",
    "\n",
    "spark.sql(\"Select bins , count(*) as frequency from binTable group by bins order by frequency desc\").show(3)"
   ]
  },
  {
   "cell_type": "markdown",
   "metadata": {},
   "source": [
    "#### From Violation code analysis, we have seen that 21,36,38 are the most common violation codes."
   ]
  },
  {
   "cell_type": "code",
   "execution_count": 51,
   "metadata": {},
   "outputs": [
    {
     "name": "stdout",
     "output_type": "stream",
     "text": [
      "+----+---------+\n",
      "|bins|frequency|\n",
      "+----+---------+\n",
      "|   3|  2280629|\n",
      "|   4|  1199166|\n",
      "|   5|   230641|\n",
      "+----+---------+\n",
      "only showing top 3 rows\n",
      "\n"
     ]
    }
   ],
   "source": [
    "# The most common time of the day for three most commonly occurring violation codes:\n",
    "\n",
    "spark.sql(\"select bins, count(*) as frequency from binTable where `Violation Code` in (21,36,38) group by bins order by frequency desc\").show(3)"
   ]
  },
  {
   "cell_type": "markdown",
   "metadata": {},
   "source": [
    "##### From this we can conclude that 8 AM - 12 PM (Bin 3), 12 PM - 4 PM (Bin 4) and 4 PM - 8 PM (Bin 5) are the times of the day when most commonly occuring violation codes happen. In short, morning 8 to evening 8 is the time (Working hours of people). "
   ]
  },
  {
   "cell_type": "markdown",
   "metadata": {},
   "source": [
    "#### Q.6) Let’s try and find some seasonality in this data:\n",
    "\n",
    "First, divide the year into a certain number of seasons, and find the frequencies of tickets for each season. \n",
    "\n",
    "Then, find the three most common violations for each of these seasons.\n"
   ]
  },
  {
   "cell_type": "code",
   "execution_count": 52,
   "metadata": {},
   "outputs": [
    {
     "name": "stdout",
     "output_type": "stream",
     "text": [
      "+----------+\n",
      "|Issue Date|\n",
      "+----------+\n",
      "|2016-07-10|\n",
      "|2016-07-08|\n",
      "|2016-08-23|\n",
      "|2017-06-14|\n",
      "|2016-11-21|\n",
      "|2017-06-13|\n",
      "|2016-08-03|\n",
      "|2016-12-21|\n",
      "|2016-11-21|\n",
      "|2016-10-05|\n",
      "|2017-01-11|\n",
      "|2016-09-27|\n",
      "|2016-10-27|\n",
      "|2016-09-30|\n",
      "|2017-02-04|\n",
      "|2016-07-07|\n",
      "|2016-09-24|\n",
      "|2017-01-26|\n",
      "|2017-04-30|\n",
      "|2017-02-03|\n",
      "+----------+\n",
      "only showing top 20 rows\n",
      "\n"
     ]
    }
   ],
   "source": [
    "# Check 'Issue Date' from the data:\n",
    "\n",
    "spark.sql(\"select `Issue Date` from binTable \").show()"
   ]
  },
  {
   "cell_type": "code",
   "execution_count": 53,
   "metadata": {},
   "outputs": [],
   "source": [
    "# Creating seasons and assigning tickets to each season:\n",
    "\n",
    "seasons=spark.sql(\"Select * ,case when month(`Issue Date`) between 3 and 5 then 'Spring' when month(`Issue Date`) between 6 and 8 then 'Summer'  when month(`Issue Date`) between 9 and 11 then 'Autumn' when month(`Issue Date`) in (1,2,12) then 'Winter' else 'none' end as season from binTable\")"
   ]
  },
  {
   "cell_type": "code",
   "execution_count": 54,
   "metadata": {},
   "outputs": [
    {
     "name": "stdout",
     "output_type": "stream",
     "text": [
      "+--------------+--------+------------------+----------+--------------+-----------------+------------+------------------+---------------+--------------+----+------+\n",
      "|Summons Number|Plate ID|Registration State|Issue Date|Violation Code|Vehicle Body Type|Vehicle Make|Violation Precinct|Issuer Precinct|Violation Time|bins|season|\n",
      "+--------------+--------+------------------+----------+--------------+-----------------+------------+------------------+---------------+--------------+----+------+\n",
      "|    5092469481| GZH7067|                NY|2016-07-10|             7|             SUBN|       TOYOT|                 0|              0|         0143A|   1|Summer|\n",
      "|    5092451658| GZH7067|                NY|2016-07-08|             7|             SUBN|       TOYOT|                 0|              0|         0400P|   5|Summer|\n",
      "|    4006265037| FZX9232|                NY|2016-08-23|             5|             SUBN|        FORD|                 0|              0|         0233P|   4|Summer|\n",
      "|    8478629828| 66623ME|                NY|2017-06-14|            47|             REFG|       MITSU|                14|             14|         1120A|   3|Summer|\n",
      "|    7868300310| 37033JV|                NY|2016-11-21|            69|             DELV|       INTER|                13|             13|         0555P|   5|Autumn|\n",
      "|    5096917368| FZD8593|                NY|2017-06-13|             7|             SUBN|       ME/BE|                 0|              0|         0852P|   6|Summer|\n",
      "|    1413609545|  X20DCM|                NJ|2016-08-03|            40|              SDN|       TOYOT|                71|             71|         0215A|   1|Summer|\n",
      "|    4628525523|  326SF9|                MA|2016-12-21|            36|               UT|         BMW|                 0|              0|         0758A|   2|Winter|\n",
      "|    4627113330| HCA5464|                NY|2016-11-21|            36|             SUBN|       DODGE|                 0|              0|         1005A|   3|Autumn|\n",
      "|    4006478550| VAD7274|                VA|2016-10-05|             5|               4D|         BMW|                 0|              0|         0845A|   3|Autumn|\n",
      "|    1407740258| 2513JMG|                NY|2017-01-11|            78|             DELV|       FRUEH|               106|            106|         0015A|   1|Winter|\n",
      "|    8009901763| 13657MD|                NY|2016-09-27|            19|             DELV|       KENWO|                18|             18|         0707A|   2|Autumn|\n",
      "|    4625926610|N102911C|                NY|2016-10-27|            36|              VAN|        FORD|                 0|              0|         1022A|   3|Autumn|\n",
      "|    1416492320| FGR5997|                NY|2016-09-30|            21|              SDN|       NISSA|                44|             44|         1150A|   3|Autumn|\n",
      "|    1413656420|T672371C|                NY|2017-02-04|            40|             TAXI|       TOYOT|                73|             73|         0525A|   2|Winter|\n",
      "|    7959486440| GYF2052|                NY|2016-07-07|            71|             4DSD|       VOLKS|               120|            120|         0645P|   5|Summer|\n",
      "|    5093620865| AD80228|                AZ|2016-09-24|             7|               TK|        FORD|                 0|              0|         1122A|   3|Autumn|\n",
      "|    8480309064| 51771JW|                NY|2017-01-26|            64|              VAN|       INTER|                17|             17|         0256P|   4|Winter|\n",
      "|    1416638830|  GLP367|                NY|2017-04-30|            20|             SUBN|       DODGE|                17|             17|         1232A|   1|Spring|\n",
      "|    4630524241|  HJBP29|                FL|2017-02-03|            36|               4D|         BMW|                 0|              0|         1034A|   3|Winter|\n",
      "+--------------+--------+------------------+----------+--------------+-----------------+------------+------------------+---------------+--------------+----+------+\n",
      "only showing top 20 rows\n",
      "\n"
     ]
    }
   ],
   "source": [
    "# Checking seasons:\n",
    "\n",
    "seasons.show()"
   ]
  },
  {
   "cell_type": "code",
   "execution_count": 55,
   "metadata": {},
   "outputs": [],
   "source": [
    "# Registering seasons as table for SQL queries:\n",
    "\n",
    "seasons.registerTempTable(\"seasonTable\")"
   ]
  },
  {
   "cell_type": "code",
   "execution_count": 56,
   "metadata": {},
   "outputs": [
    {
     "name": "stdout",
     "output_type": "stream",
     "text": [
      "+------+---------+\n",
      "|season|Frequency|\n",
      "+------+---------+\n",
      "|Spring|  2880687|\n",
      "|Autumn|  2830802|\n",
      "|Summer|  2606208|\n",
      "|Winter|  2485331|\n",
      "+------+---------+\n",
      "\n"
     ]
    }
   ],
   "source": [
    "# Frequencies of tickets for each season:\n",
    "\n",
    "spark.sql(\"Select season, count(*) as Frequency from seasonTable group by season order by Frequency desc\").show()"
   ]
  },
  {
   "cell_type": "code",
   "execution_count": 57,
   "metadata": {},
   "outputs": [],
   "source": [
    "season_plot = spark.sql(\"Select season, count(*) as Frequency from seasonTable group by season order by Frequency desc\")"
   ]
  },
  {
   "cell_type": "code",
   "execution_count": 58,
   "metadata": {},
   "outputs": [
    {
     "data": {
      "text/plain": [
       "<matplotlib.axes._subplots.AxesSubplot at 0x7ff25bab1a20>"
      ]
     },
     "execution_count": 58,
     "metadata": {},
     "output_type": "execute_result"
    },
    {
     "data": {
      "text/plain": [
       "<Figure size 432x288 with 0 Axes>"
      ]
     },
     "metadata": {},
     "output_type": "display_data"
    },
    {
     "data": {
      "image/png": "[encoded data removed]",
      "text/plain": [
       "<Figure size 432x288 with 1 Axes>"
      ]
     },
     "metadata": {},
     "output_type": "display_data"
    }
   ],
   "source": [
    "# Visual representation of 'season' vs 'Frequency':\n",
    "\n",
    "plt.clf()\n",
    "plot2 = season_plot.toPandas()\n",
    "plot2.plot(x='season', y='Frequency', kind='bar', rot=45)"
   ]
  },
  {
   "cell_type": "code",
   "execution_count": 59,
   "metadata": {},
   "outputs": [
    {
     "name": "stdout",
     "output_type": "stream",
     "text": [
      "+--------------+---------+\n",
      "|Violation Code|Frequency|\n",
      "+--------------+---------+\n",
      "|            21|   402807|\n",
      "|            36|   344834|\n",
      "|            38|   271192|\n",
      "+--------------+---------+\n",
      "only showing top 3 rows\n",
      "\n"
     ]
    }
   ],
   "source": [
    "# The three most common violations for 'Spring':\n",
    "\n",
    "spark.sql(\"Select `Violation Code`, count(*) as Frequency from seasonTable where season ='Spring' group by `Violation Code` order by Frequency desc \" ).show(3)"
   ]
  },
  {
   "cell_type": "code",
   "execution_count": 60,
   "metadata": {},
   "outputs": [
    {
     "name": "stdout",
     "output_type": "stream",
     "text": [
      "+--------------+---------+\n",
      "|Violation Code|Frequency|\n",
      "+--------------+---------+\n",
      "|            21|   405961|\n",
      "|            38|   247561|\n",
      "|            36|   240396|\n",
      "+--------------+---------+\n",
      "only showing top 3 rows\n",
      "\n"
     ]
    }
   ],
   "source": [
    "# The three most common violations for 'Summer':\n",
    "\n",
    "spark.sql(\"Select `Violation Code`, count(*) as Frequency from seasonTable where season='Summer' group by `Violation Code` order by Frequency desc \" ).show(3)"
   ]
  },
  {
   "cell_type": "code",
   "execution_count": 61,
   "metadata": {},
   "outputs": [
    {
     "name": "stdout",
     "output_type": "stream",
     "text": [
      "+--------------+---------+\n",
      "|Violation Code|Frequency|\n",
      "+--------------+---------+\n",
      "|            21|   362341|\n",
      "|            36|   359338|\n",
      "|            38|   259723|\n",
      "+--------------+---------+\n",
      "only showing top 3 rows\n",
      "\n"
     ]
    }
   ],
   "source": [
    "# The three most common violations for 'Winter':\n",
    "\n",
    "spark.sql(\"Select `Violation Code`, count(*) as Frequency from seasonTable where season='Winter' group by `Violation Code` order by Frequency desc \" ).show(3)"
   ]
  },
  {
   "cell_type": "code",
   "execution_count": 62,
   "metadata": {},
   "outputs": [
    {
     "name": "stdout",
     "output_type": "stream",
     "text": [
      "+--------------+---------+\n",
      "|Violation Code|Frequency|\n",
      "+--------------+---------+\n",
      "|            36|   456046|\n",
      "|            21|   357479|\n",
      "|            38|   283828|\n",
      "+--------------+---------+\n",
      "only showing top 3 rows\n",
      "\n"
     ]
    }
   ],
   "source": [
    "# The three most common violations for 'Autumn':\n",
    "\n",
    "spark.sql(\"Select `Violation Code`, count(*) as Frequency from seasonTable where season='Autumn' group by `Violation Code` order by Frequency desc \" ).show(3)"
   ]
  },
  {
   "cell_type": "markdown",
   "metadata": {},
   "source": [
    "##### If we look at Season wise analysis, we can see maximum violations during Spring closely followed by Autumn.\n",
    "##### Three most common violations for each of these seasons are: 21, 36 and 38."
   ]
  },
  {
   "cell_type": "markdown",
   "metadata": {},
   "source": [
    "#### Q.7) The fines collected from all the instances of parking violation constitute a source of revenue for the NYC Police Department. Let’s take an example of estimating this for the three most commonly occurring codes:\n",
    "Find the total occurrences of the three most common violation codes.\n",
    "Then, visit the website:\n",
    "http://www1.nyc.gov/site/finance/vehicles/services-violation-codes.page\n",
    "It lists the fines associated with different violation codes. They’re divided into two categories: one for the highest-density locations in the city and the other for the rest of the city. For the sake of simplicity, take the average of the two.\n",
    "Using this information, find the total amount collected for the three violation codes with the maximum tickets. State the code that has the highest total collection."
   ]
  },
  {
   "cell_type": "markdown",
   "metadata": {},
   "source": [
    "From Violation code analysis, we have seen that 21,36,38 are the most common violation codes. We can verify that from below:"
   ]
  },
  {
   "cell_type": "code",
   "execution_count": 63,
   "metadata": {},
   "outputs": [],
   "source": [
    "# The total occurrences of the three most common violation codes:\n",
    "\n",
    "Vio_Codes = spark.sql(\"Select `Violation Code` as Violation_Code, count(*) as frequency from seasonTable group by `Violation Code` order by frequency desc limit 3\" )"
   ]
  },
  {
   "cell_type": "code",
   "execution_count": 64,
   "metadata": {},
   "outputs": [
    {
     "data": {
      "text/plain": [
       "[Row(Violation_Code='21', frequency=1528588),\n",
       " Row(Violation_Code='36', frequency=1400614),\n",
       " Row(Violation_Code='38', frequency=1062304)]"
      ]
     },
     "execution_count": 64,
     "metadata": {},
     "output_type": "execute_result"
    }
   ],
   "source": [
    "# Vio_codes dataframe:\n",
    "\n",
    "Vio_Codes.collect()"
   ]
  },
  {
   "cell_type": "markdown",
   "metadata": {},
   "source": [
    "From the link mentioned in the problem statement, we have found the fines for top three violation codes. \n",
    "\n",
    "    Violation code    Manhattan Fine     Other Areas Fine\n",
    "\n",
    "      21                  65                     45\n",
    "      36                  50                     50\n",
    "      38                  65                     35"
   ]
  },
  {
   "cell_type": "code",
   "execution_count": 65,
   "metadata": {},
   "outputs": [],
   "source": [
    "# Creating a dataframe for violation fines per violation codes:\n",
    "\n",
    "Vio_Fines1 = Row(Manhattan_Fine = 65, Other_Areas_Fine = 45, Violation_Code = 21) \n",
    "Vio_Fines2 = Row(Manhattan_Fine = 50, Other_Areas_Fine = 50, Violation_Code = 36) \n",
    "Vio_Fines3 = Row(Manhattan_Fine = 65, Other_Areas_Fine = 35, Violation_Code = 38) "
   ]
  },
  {
   "cell_type": "code",
   "execution_count": 66,
   "metadata": {},
   "outputs": [
    {
     "data": {
      "text/plain": [
       "DataFrame[Manhattan_Fine: bigint, Other_Areas_Fine: bigint, Violation_Code: bigint]"
      ]
     },
     "metadata": {},
     "output_type": "display_data"
    }
   ],
   "source": [
    "# Dataframe 'Fines' of both types of fines:\n",
    "\n",
    "Fines = [Vio_Fines1, Vio_Fines2, Vio_Fines3]\n",
    "Vio_Fines = spark.createDataFrame(Fines)\n",
    "display(Vio_Fines)"
   ]
  },
  {
   "cell_type": "code",
   "execution_count": 67,
   "metadata": {},
   "outputs": [
    {
     "name": "stdout",
     "output_type": "stream",
     "text": [
      "+--------------+---------+--------------+----------------+\n",
      "|Violation_Code|frequency|Manhattan_Fine|Other_Areas_Fine|\n",
      "+--------------+---------+--------------+----------------+\n",
      "|            21|  1528588|            65|              45|\n",
      "|            36|  1400614|            50|              50|\n",
      "|            38|  1062304|            65|              35|\n",
      "+--------------+---------+--------------+----------------+\n",
      "\n"
     ]
    }
   ],
   "source": [
    "# Combined dataframe of Violation_Codes and Violation_Fines\n",
    "\n",
    "Final_Fines = Vio_Codes.join(Vio_Fines, \"Violation_Code\", \"inner\")\n",
    "Final_Fines.show()"
   ]
  },
  {
   "cell_type": "code",
   "execution_count": 68,
   "metadata": {},
   "outputs": [
    {
     "name": "stdout",
     "output_type": "stream",
     "text": [
      "+--------------+---------+--------------+----------------+--------+\n",
      "|Violation_Code|frequency|Manhattan_Fine|Other_Areas_Fine|Avg_Fine|\n",
      "+--------------+---------+--------------+----------------+--------+\n",
      "|            21|  1528588|            65|              45|    55.0|\n",
      "|            36|  1400614|            50|              50|    50.0|\n",
      "|            38|  1062304|            65|              35|    50.0|\n",
      "+--------------+---------+--------------+----------------+--------+\n",
      "\n"
     ]
    }
   ],
   "source": [
    "# New df with 'Avg_Fine' calculated:\n",
    "\n",
    "new_df = Final_Fines.withColumn('Avg_Fine', (Final_Fines.Manhattan_Fine + Final_Fines.Other_Areas_Fine)/2)\n",
    "new_df.show()"
   ]
  },
  {
   "cell_type": "code",
   "execution_count": 69,
   "metadata": {},
   "outputs": [
    {
     "name": "stdout",
     "output_type": "stream",
     "text": [
      "+--------------+---------+--------------+----------------+--------+----------+\n",
      "|Violation_Code|frequency|Manhattan_Fine|Other_Areas_Fine|Avg_Fine|Total_Fine|\n",
      "+--------------+---------+--------------+----------------+--------+----------+\n",
      "|            21|  1528588|            65|              45|    55.0|8.407234E7|\n",
      "|            36|  1400614|            50|              50|    50.0| 7.00307E7|\n",
      "|            38|  1062304|            65|              35|    50.0| 5.31152E7|\n",
      "+--------------+---------+--------------+----------------+--------+----------+\n",
      "\n"
     ]
    }
   ],
   "source": [
    "# df with Total_Fine calculated:\n",
    "\n",
    "Total_Fine = new_df.withColumn('Total_Fine', (new_df.frequency * new_df.Avg_Fine))\n",
    "Total_Fine.show()"
   ]
  },
  {
   "cell_type": "code",
   "execution_count": 70,
   "metadata": {},
   "outputs": [
    {
     "data": {
      "text/plain": [
       "<matplotlib.axes._subplots.AxesSubplot at 0x7ff25ba59160>"
      ]
     },
     "execution_count": 70,
     "metadata": {},
     "output_type": "execute_result"
    },
    {
     "data": {
      "text/plain": [
       "<Figure size 432x288 with 0 Axes>"
      ]
     },
     "metadata": {},
     "output_type": "display_data"
    },
    {
     "data": {
      "image/png": "[encoded data removed]",
      "text/plain": [
       "<Figure size 432x288 with 1 Axes>"
      ]
     },
     "metadata": {},
     "output_type": "display_data"
    }
   ],
   "source": [
    "# Visual representation of 'Total_Fine' vs 'Violation_Code':\n",
    "plt.clf()\n",
    "plot3 = Total_Fine.toPandas()\n",
    "plot3.plot(x='Violation_Code', y='Total_Fine', kind='bar', rot=45)"
   ]
  },
  {
   "cell_type": "markdown",
   "metadata": {},
   "source": [
    "##### Violation Code: 21 has collected the maximum fine. This is true considering the fact that  maximum tickets are of Code:21 (as compared to other two) and the average fine for this is more than other codes too.  "
   ]
  },
  {
   "cell_type": "code",
   "execution_count": 72,
   "metadata": {},
   "outputs": [
    {
     "name": "stdout",
     "output_type": "stream",
     "text": [
      "+---------------+\n",
      "|sum(Total_Fine)|\n",
      "+---------------+\n",
      "|    2.0721824E8|\n",
      "+---------------+\n",
      "\n"
     ]
    }
   ],
   "source": [
    "# Total fine collected for top three Violation Codes:\n",
    "\n",
    "Total_Fine.agg({'Total_Fine': 'sum'}).show()"
   ]
  },
  {
   "cell_type": "markdown",
   "metadata": {},
   "source": [
    "##### Total fine collected for top three Violation Codes (21,36,38) is: $207218240.\n"
   ]
  },
  {
   "cell_type": "code",
   "execution_count": null,
   "metadata": {},
   "outputs": [],
   "source": [
    "# Stopping Spark:\n",
    "\n",
    "spark.stop()"
   ]
  },
  {
   "cell_type": "markdown",
   "metadata": {},
   "source": [
    "From the entire analysis, we can infer certain things:\n",
    "\n",
    "    -- We have been supplied with data of 66 states. \n",
    "    -- 21, 36 and 38 are most commonly occuring Violation Codes.\n",
    "    -- Sedans, suburban vehicles, delivery vans are most frequently fined types of vehicles. \n",
    "    -- 8 AM to 8 PM (most common working time of maximum people in the city) is the time when maximum tickets have been issued, from which we can infer that may be due to the space crunch for parking during working hours results to maximum violations there by resulting in maxmimum tickets issued.\n",
    "    -- Season wise analysis tells us that we see maximum violations during Spring closely followed by Autumn. \n",
    "    -- If we look at fines collected, we can see that maximum fine is collected for Violation Code 21 and Total fine collected for top three Violation Codes (21,36,38) is: $207218240."
   ]
  },
  {
   "cell_type": "code",
   "execution_count": null,
   "metadata": {},
   "outputs": [],
   "source": []
  }
 ],
 "metadata": {
  "kernelspec": {
   "display_name": "Python 3",
   "language": "python",
   "name": "python3"
  },
  "language_info": {
   "codemirror_mode": {
    "name": "ipython",
    "version": 3
   },
   "file_extension": ".py",
   "mimetype": "text/x-python",
   "name": "python",
   "nbconvert_exporter": "python",
   "pygments_lexer": "ipython3",
   "version": "3.7.3"
  }
 },
 "nbformat": 4,
 "nbformat_minor": 2
}
